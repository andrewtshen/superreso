{
 "cells": [
  {
   "cell_type": "markdown",
   "id": "cbd0e658",
   "metadata": {},
   "source": [
    "# SuperReso\n",
    "\n",
    "### Super Resolution with stupid ML"
   ]
  },
  {
   "cell_type": "code",
   "execution_count": 1,
   "id": "2d024120",
   "metadata": {},
   "outputs": [],
   "source": [
    "# Import Libraries\n",
    "import cv2\n",
    "import numpy as np\n",
    "import matplotlib.pyplot as plt\n",
    "import torch\n",
    "from scipy import ndimage\n",
    "# from tqdm import tqdm"
   ]
  },
  {
   "cell_type": "code",
   "execution_count": 3,
   "id": "57c63a61",
   "metadata": {},
   "outputs": [],
   "source": [
    "# Build a network that takes patches of 16x16 input and returns 4x4 pixel prediction\n",
    "# TODO: Should also consider other patches of already predicted regions?\n",
    "\n",
    "# Training:\n",
    "# Input pairs: (blurred image patch, high resolution image output)\n",
    "# Test pairs: (recontruct actual image blurred image patch, high resolution image output)\n",
    "\n",
    "# Idea 2:\n",
    "# Input pairs:(blurred image patch, )"
   ]
  },
  {
   "cell_type": "code",
   "execution_count": null,
   "id": "cc838cf3",
   "metadata": {},
   "outputs": [],
   "source": [
    "# Create dataset\n",
    "target_image = cv2.imread('target_monkey.jpg')\n",
    "width, height, _ = target.shape\n",
    "\n",
    "for i in range(0, width - PATCH_SIZE):\n",
    "    for j in range(0, height - PATCH_SIZE):"
   ]
  }
 ],
 "metadata": {
  "kernelspec": {
   "display_name": "Python 3 (ipykernel)",
   "language": "python",
   "name": "python3"
  },
  "language_info": {
   "codemirror_mode": {
    "name": "ipython",
    "version": 3
   },
   "file_extension": ".py",
   "mimetype": "text/x-python",
   "name": "python",
   "nbconvert_exporter": "python",
   "pygments_lexer": "ipython3",
   "version": "3.10.13"
  }
 },
 "nbformat": 4,
 "nbformat_minor": 5
}
